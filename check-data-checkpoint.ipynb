{
 "cells": [
  {
   "cell_type": "code",
   "execution_count": 2,
   "metadata": {
    "collapsed": true
   },
   "outputs": [],
   "source": [
    "from lxml import etree\n",
    "xmL = \"D:/Data/PRS_DATA/dblp.xml\""
   ]
  },
  {
   "cell_type": "code",
   "execution_count": 6,
   "metadata": {
    "collapsed": false,
    "scrolled": true
   },
   "outputs": [
    {
     "name": "stdout",
     "output_type": "stream",
     "text": [
      "<Element dblp at 0x1791c626a08> \n\n<Element article at 0x1791c626648> \n\n<Element author at 0x1791c626948> Sanjeev Saxena\n<Element author at 0x1791c626948> Sanjeev Saxena\n<Element title at 0x1791c626988> Parallel Integer Sorting and Simulation Amongst CRCW Models.\n<Element title at 0x1791c626988> Parallel Integer Sorting and Simulation Amongst CRCW Models.\n<Element pages at 0x1791c6269c8> 607-619\n<Element pages at 0x1791c6269c8> 607-619\n<Element year at 0x1791c626d08> 1996\n<Element year at 0x1791c626d08> 1996\n<Element volume at 0x1791c626d48> 33\n<Element volume at 0x1791c626d48> 33\n<Element journal at 0x1791c626d88> Acta Inf.\n<Element journal at 0x1791c626d88> Acta Inf.\n<Element number at 0x1791c626dc8> 7\n<Element number at 0x1791c626dc8> 7\n<Element url at 0x1791c626e08> db/journals/acta/acta33.html#Saxena96\n<Element url at 0x1791c626e08> db/journals/acta/acta33.html#Saxena96\n<Element ee at 0x1791c626e48> https://doi.org/10.1007/BF03036466\n"
     ]
    }
   ],
   "source": [
    "i=0\n",
    "for event, elem in etree.iterparse(xmL,dtd_validation=True, events=('start', 'end', 'start-ns', 'end-ns')):\n",
    "    i+=1\n",
    "    if(i<20):\n",
    "        print(elem,elem.text)\n",
    "    else:\n",
    "        break"
   ]
  },
  {
   "cell_type": "code",
   "execution_count": null,
   "metadata": {},
   "outputs": [],
   "source": []
  }
 ],
 "metadata": {
  "anaconda-cloud": {},
  "kernelspec": {
   "display_name": "Python [conda root]",
   "language": "python",
   "name": "conda-root-py"
  },
  "language_info": {
   "codemirror_mode": {
    "name": "ipython",
    "version": 3
   },
   "file_extension": ".py",
   "mimetype": "text/x-python",
   "name": "python",
   "nbconvert_exporter": "python",
   "pygments_lexer": "ipython3",
   "version": "3.5.2"
  }
 },
 "nbformat": 4,
 "nbformat_minor": 1
}
