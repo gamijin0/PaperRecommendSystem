{
 "cells": [
  {
   "cell_type": "code",
   "execution_count": 2,
   "metadata": {
    "collapsed": false
   },
   "outputs": [],
   "source": [
    "from py2neo import Graph, Node, Relationship\n",
    "from py2neo.ogm import GraphObject,Property,RelatedTo,RelatedFrom\n",
    "import configparser\n",
    "\n",
    "\n",
    "config = configparser.ConfigParser()\n",
    "config.read(\"config.cfg\")\n",
    "\n",
    "n_username = config.get(\"neo4j\", \"username\")\n",
    "n_address = config.get(\"neo4j\", \"address\")\n",
    "n_port = config.get(\"neo4j\", \"port\")\n",
    "n_password = config.get(\"neo4j\", \"password\")\n",
    "\n",
    "\n",
    "\n",
    "dblp_graph = Graph(\n",
    "    \"%s:%s\" % (n_address, n_port),\n",
    "    username=n_username,\n",
    "    password=n_password\n",
    ")\n",
    "\n",
    "class Article(GraphObject):\n",
    "    __primarykey__ = 'title'\n",
    "    title = Property()\n",
    "    ee = Property()\n",
    "    url = Property()\n",
    "    key = Property()\n",
    "    refer = RelatedTo(\"Article\")\n",
    "    be_refered_by = RelatedFrom(\"Article\",\"refer\")\n",
    "    pub_in = RelatedTo(\"journal\",\"published_in\")\n",
    "class journal(GraphObject):\n",
    "    __primarykey__ = \"name\"\n",
    "    name = Property()"
   ]
  },
  {
   "cell_type": "code",
   "execution_count": 3,
   "metadata": {
    "collapsed": false
   },
   "outputs": [
    {
     "name": "stdout",
     "output_type": "stream",
     "text": [
      "Models and solution techniques for frequency assignment problems.\n",
      "Polynomial algorithms for kernels in comparability, permutation and P\n",
      "A Branch and Bound algorithm for minimizing the energy consumption of an electrical vehicle.\n"
     ]
    }
   ],
   "source": [
    "articles = Article.select(dblp_graph).limit(3)\n",
    "for a in articles:\n",
    "    print(a.title)"
   ]
  },
  {
   "cell_type": "code",
   "execution_count": null,
   "metadata": {
    "collapsed": true
   },
   "outputs": [],
   "source": [
    "import socket\n",
    "import socks\n",
    "import requests\n",
    "\n",
    "socks.set_default_proxy(socks.SOCKS5, \"127.0.0.1\", 1080)\n",
    "socket.socket = socks.socksocket\n",
    "import scholarly\n",
    "\n",
    "\n",
    "for a in articles:\n",
    "    pubs =  scholarly.search_pubs_query(a.title)\n",
    "    for p in pubs:\n",
    "        \n",
    "        s = \"//\"+a.title+\"=\"*10+p.bib['title']+\"=\"*10\n",
    "        print(s)\n",
    "        \n",
    "        res = Article.select(dblp_graph).where('_.title =~ \"(?i).*%s.*\"' % (p.bib['title']))\n",
    "        print(len(list(res)))\n",
    "        \n",
    "        print(\"=\"*len(s))"
   ]
  }
 ],
 "metadata": {
  "anaconda-cloud": {},
  "kernelspec": {
   "display_name": "Python [conda root]",
   "language": "python",
   "name": "conda-root-py"
  },
  "language_info": {
   "codemirror_mode": {
    "name": "ipython",
    "version": 3
   },
   "file_extension": ".py",
   "mimetype": "text/x-python",
   "name": "python",
   "nbconvert_exporter": "python",
   "pygments_lexer": "ipython3",
   "version": "3.5.2"
  }
 },
 "nbformat": 4,
 "nbformat_minor": 1
}
